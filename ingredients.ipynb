{
 "cells": [
  {
   "cell_type": "markdown",
   "metadata": {},
   "source": [
    "### Recipe recommender based on similar ingredients"
   ]
  },
  {
   "cell_type": "markdown",
   "metadata": {},
   "source": [
    "## Data Analysis"
   ]
  },
  {
   "cell_type": "code",
   "execution_count": 1,
   "metadata": {},
   "outputs": [],
   "source": [
    "import pandas as pd\n",
    "import nltk"
   ]
  },
  {
   "cell_type": "code",
   "execution_count": 2,
   "metadata": {},
   "outputs": [
    {
     "data": {
      "text/html": [
       "<div>\n",
       "<style scoped>\n",
       "    .dataframe tbody tr th:only-of-type {\n",
       "        vertical-align: middle;\n",
       "    }\n",
       "\n",
       "    .dataframe tbody tr th {\n",
       "        vertical-align: top;\n",
       "    }\n",
       "\n",
       "    .dataframe thead th {\n",
       "        text-align: right;\n",
       "    }\n",
       "</style>\n",
       "<table border=\"1\" class=\"dataframe\">\n",
       "  <thead>\n",
       "    <tr style=\"text-align: right;\">\n",
       "      <th></th>\n",
       "      <th>recipe_id</th>\n",
       "      <th>recipe_name</th>\n",
       "      <th>aver_rate</th>\n",
       "      <th>review_nums</th>\n",
       "      <th>ingredients</th>\n",
       "    </tr>\n",
       "  </thead>\n",
       "  <tbody>\n",
       "    <tr>\n",
       "      <th>0</th>\n",
       "      <td>222388</td>\n",
       "      <td>Homemade Bacon</td>\n",
       "      <td>5.00</td>\n",
       "      <td>3</td>\n",
       "      <td>pork belly^smoked paprika^kosher salt^ground b...</td>\n",
       "    </tr>\n",
       "    <tr>\n",
       "      <th>1</th>\n",
       "      <td>240488</td>\n",
       "      <td>Pork Loin, Apples, and Sauerkraut</td>\n",
       "      <td>4.76</td>\n",
       "      <td>29</td>\n",
       "      <td>sauerkraut drained^Granny Smith apples sliced^...</td>\n",
       "    </tr>\n",
       "    <tr>\n",
       "      <th>2</th>\n",
       "      <td>218939</td>\n",
       "      <td>Foolproof Rosemary Chicken Wings</td>\n",
       "      <td>4.57</td>\n",
       "      <td>12</td>\n",
       "      <td>chicken wings^sprigs rosemary^head garlic^oliv...</td>\n",
       "    </tr>\n",
       "    <tr>\n",
       "      <th>3</th>\n",
       "      <td>87211</td>\n",
       "      <td>Chicken Pesto Paninis</td>\n",
       "      <td>4.62</td>\n",
       "      <td>163</td>\n",
       "      <td>focaccia bread quartered^prepared basil pesto^...</td>\n",
       "    </tr>\n",
       "    <tr>\n",
       "      <th>4</th>\n",
       "      <td>245714</td>\n",
       "      <td>Potato Bacon Pizza</td>\n",
       "      <td>4.50</td>\n",
       "      <td>2</td>\n",
       "      <td>red potatoes^strips bacon^Sauce:^heavy whippin...</td>\n",
       "    </tr>\n",
       "  </tbody>\n",
       "</table>\n",
       "</div>"
      ],
      "text/plain": [
       "   recipe_id                        recipe_name aver_rate  review_nums  \\\n",
       "0     222388                     Homemade Bacon      5.00            3   \n",
       "1     240488  Pork Loin, Apples, and Sauerkraut      4.76           29   \n",
       "2     218939   Foolproof Rosemary Chicken Wings      4.57           12   \n",
       "3      87211              Chicken Pesto Paninis      4.62          163   \n",
       "4     245714                 Potato Bacon Pizza      4.50            2   \n",
       "\n",
       "                                         ingredients  \n",
       "0  pork belly^smoked paprika^kosher salt^ground b...  \n",
       "1  sauerkraut drained^Granny Smith apples sliced^...  \n",
       "2  chicken wings^sprigs rosemary^head garlic^oliv...  \n",
       "3  focaccia bread quartered^prepared basil pesto^...  \n",
       "4  red potatoes^strips bacon^Sauce:^heavy whippin...  "
      ]
     },
     "execution_count": 2,
     "metadata": {},
     "output_type": "execute_result"
    }
   ],
   "source": [
    "raw_recipes = pd.read_csv('./data/raw-data_recipe.csv')\n",
    "raw_recipes = raw_recipes.drop(columns=[\"image_url\", \"cooking_directions\", \"reviews\", \"nutritions\"])\n",
    "raw_recipes.aver_rate = raw_recipes.aver_rate.apply(lambda num: f'{num:.2f}')\n",
    "raw_recipes.aver_rate.head()\n",
    "raw_recipes.head()"
   ]
  },
  {
   "cell_type": "code",
   "execution_count": 7,
   "metadata": {},
   "outputs": [
    {
     "data": {
      "text/html": [
       "<div>\n",
       "<style scoped>\n",
       "    .dataframe tbody tr th:only-of-type {\n",
       "        vertical-align: middle;\n",
       "    }\n",
       "\n",
       "    .dataframe tbody tr th {\n",
       "        vertical-align: top;\n",
       "    }\n",
       "\n",
       "    .dataframe thead th {\n",
       "        text-align: right;\n",
       "    }\n",
       "</style>\n",
       "<table border=\"1\" class=\"dataframe\">\n",
       "  <thead>\n",
       "    <tr style=\"text-align: right;\">\n",
       "      <th></th>\n",
       "      <th>recipe_name</th>\n",
       "      <th>ingredients</th>\n",
       "    </tr>\n",
       "  </thead>\n",
       "  <tbody>\n",
       "    <tr>\n",
       "      <th>0</th>\n",
       "      <td>Homemade Bacon</td>\n",
       "      <td>pork belly^smoked paprika^kosher salt^ground b...</td>\n",
       "    </tr>\n",
       "    <tr>\n",
       "      <th>1</th>\n",
       "      <td>Pork Loin, Apples, and Sauerkraut</td>\n",
       "      <td>sauerkraut drained^Granny Smith apples sliced^...</td>\n",
       "    </tr>\n",
       "    <tr>\n",
       "      <th>2</th>\n",
       "      <td>Foolproof Rosemary Chicken Wings</td>\n",
       "      <td>chicken wings^sprigs rosemary^head garlic^oliv...</td>\n",
       "    </tr>\n",
       "    <tr>\n",
       "      <th>3</th>\n",
       "      <td>Chicken Pesto Paninis</td>\n",
       "      <td>focaccia bread quartered^prepared basil pesto^...</td>\n",
       "    </tr>\n",
       "    <tr>\n",
       "      <th>4</th>\n",
       "      <td>Potato Bacon Pizza</td>\n",
       "      <td>red potatoes^strips bacon^Sauce:^heavy whippin...</td>\n",
       "    </tr>\n",
       "  </tbody>\n",
       "</table>\n",
       "</div>"
      ],
      "text/plain": [
       "                         recipe_name  \\\n",
       "0                     Homemade Bacon   \n",
       "1  Pork Loin, Apples, and Sauerkraut   \n",
       "2   Foolproof Rosemary Chicken Wings   \n",
       "3              Chicken Pesto Paninis   \n",
       "4                 Potato Bacon Pizza   \n",
       "\n",
       "                                         ingredients  \n",
       "0  pork belly^smoked paprika^kosher salt^ground b...  \n",
       "1  sauerkraut drained^Granny Smith apples sliced^...  \n",
       "2  chicken wings^sprigs rosemary^head garlic^oliv...  \n",
       "3  focaccia bread quartered^prepared basil pesto^...  \n",
       "4  red potatoes^strips bacon^Sauce:^heavy whippin...  "
      ]
     },
     "execution_count": 7,
     "metadata": {},
     "output_type": "execute_result"
    }
   ],
   "source": [
    "recipe_ingredients = raw_recipes.drop(columns=[\"recipe_id\", \"aver_rate\", \"review_nums\"])\n",
    "recipe_ingredients.head()"
   ]
  },
  {
   "cell_type": "code",
   "execution_count": 8,
   "metadata": {},
   "outputs": [
    {
     "data": {
      "text/plain": [
       "pandas.core.frame.DataFrame"
      ]
     },
     "execution_count": 8,
     "metadata": {},
     "output_type": "execute_result"
    }
   ],
   "source": [
    "type(recipe_ingredients)"
   ]
  },
  {
   "cell_type": "code",
   "execution_count": 9,
   "metadata": {},
   "outputs": [],
   "source": [
    "for ri in recipe_ingredients[\"ingredients\"]:\n",
    "    ri = ri.split(\"^\")"
   ]
  },
  {
   "cell_type": "code",
   "execution_count": 21,
   "metadata": {},
   "outputs": [
    {
     "name": "stdout",
     "output_type": "stream",
     "text": [
      "boneless chicken breast halves mayonnaise chopped celery chopped fresh cilantro to taste taco seasoning mix\n"
     ]
    }
   ],
   "source": [
    "for i in range(40,41):\n",
    "    print(\" \".join(recipe_ingredients.ingredients.loc[i].split(\"^\")))"
   ]
  },
  {
   "cell_type": "code",
   "execution_count": 22,
   "metadata": {},
   "outputs": [],
   "source": [
    "recipe_ingredients[\"ingredients_together\"] = recipe_ingredients[\"ingredients\"].apply(lambda x: \" \".join(x.split(\"^\")))"
   ]
  },
  {
   "cell_type": "code",
   "execution_count": 25,
   "metadata": {},
   "outputs": [],
   "source": [
    "recipe_ingredients[\"ingredients_together\"] = recipe_ingredients[\"ingredients_together\"].apply(lambda x: x.lower())"
   ]
  },
  {
   "cell_type": "code",
   "execution_count": 26,
   "metadata": {},
   "outputs": [
    {
     "data": {
      "text/plain": [
       "0    pork belly smoked paprika kosher salt ground b...\n",
       "1    sauerkraut drained granny smith apples sliced ...\n",
       "2    chicken wings sprigs rosemary head garlic oliv...\n",
       "3    focaccia bread quartered prepared basil pesto ...\n",
       "4    red potatoes strips bacon sauce: heavy whippin...\n",
       "Name: ingredients_together, dtype: object"
      ]
     },
     "execution_count": 26,
     "metadata": {},
     "output_type": "execute_result"
    }
   ],
   "source": [
    "recipe_ingredients[\"ingredients_together\"].head()"
   ]
  },
  {
   "cell_type": "markdown",
   "metadata": {},
   "source": [
    "### Cleaning our ingredients"
   ]
  },
  {
   "cell_type": "code",
   "execution_count": 32,
   "metadata": {},
   "outputs": [],
   "source": [
    "import string\n",
    "\"\"\"Punctuation Removal\"\"\"\n",
    "def remove_punctuations(text):\n",
    "    for char in string.punctuation:\n",
    "        text = text.replace(char, '')\n",
    "    return text"
   ]
  },
  {
   "cell_type": "code",
   "execution_count": 33,
   "metadata": {},
   "outputs": [],
   "source": [
    "recipe_ingredients[\"ingredients_together\"] = recipe_ingredients[\"ingredients_together\"].apply(remove_punctuations)"
   ]
  },
  {
   "cell_type": "markdown",
   "metadata": {},
   "source": [
    "### Stop words"
   ]
  },
  {
   "cell_type": "code",
   "execution_count": 35,
   "metadata": {},
   "outputs": [
    {
     "name": "stderr",
     "output_type": "stream",
     "text": [
      "[nltk_data] Downloading package stopwords to\n",
      "[nltk_data]     C:\\Users\\abrah\\AppData\\Roaming\\nltk_data...\n",
      "[nltk_data]   Unzipping corpora\\stopwords.zip.\n"
     ]
    },
    {
     "data": {
      "text/plain": [
       "True"
      ]
     },
     "execution_count": 35,
     "metadata": {},
     "output_type": "execute_result"
    }
   ],
   "source": [
    "nltk.download('stopwords')"
   ]
  },
  {
   "cell_type": "code",
   "execution_count": 36,
   "metadata": {},
   "outputs": [],
   "source": [
    "stopwords = nltk.corpus.stopwords.words(\"english\")"
   ]
  },
  {
   "cell_type": "code",
   "execution_count": 37,
   "metadata": {},
   "outputs": [],
   "source": [
    "recipe_ingredients[\"ingredients_nostopw\"] = recipe_ingredients[\"ingredients_together\"].apply(lambda x: \" \".join([word for word in x.split() if word not in stopwords]))"
   ]
  },
  {
   "cell_type": "code",
   "execution_count": 38,
   "metadata": {},
   "outputs": [
    {
     "name": "stdout",
     "output_type": "stream",
     "text": [
      "ground;28284\n",
      "salt;28149\n",
      "pepper;27440\n",
      "chopped;23215\n",
      "sugar;22887\n",
      "white;19431\n",
      "oil;17987\n",
      "butter;17232\n",
      "fresh;16349\n",
      "cheese;16325\n",
      "garlic;15230\n",
      "onion;14682\n",
      "flour;14165\n",
      "black;13727\n",
      "powder;12424\n",
      "water;11608\n",
      "taste;11349\n",
      "allpurpose;10984\n",
      "cream;10895\n",
      "sauce;10553\n",
      "milk;10307\n",
      "chicken;9639\n",
      "olive;9170\n",
      "dried;8760\n",
      "eggs;8734\n",
      "red;8519\n",
      "green;8225\n",
      "baking;8141\n",
      "vanilla;7962\n",
      "juice;7833\n"
     ]
    }
   ],
   "source": [
    "vocabulary1 = nltk.FreqDist()\n",
    "\n",
    "for ingredients in recipe_ingredients[\"ingredients_nostopw\"]:\n",
    "    ingredients = ingredients.split()\n",
    "    vocabulary1.update(ingredients)\n",
    "\n",
    "for word, frequency in vocabulary1.most_common(30):\n",
    "    print(f'{word};{frequency}')"
   ]
  },
  {
   "cell_type": "code",
   "execution_count": null,
   "metadata": {},
   "outputs": [],
   "source": [
    "vocabulary = nltk.FreqDist()\n",
    "\n",
    "for ingredients in recipe_ingredients[\"ingredients_together\"]:\n",
    "    ingredients = ingredients.split()\n",
    "    vocabulary.update(ingredients)\n",
    "\n",
    "for word, frequency in vocabulary.most_common(30):\n",
    "    print(f'{word};{frequency}')"
   ]
  }
 ],
 "metadata": {
  "kernelspec": {
   "display_name": "Python 3.10.6 ('recipe-recommender')",
   "language": "python",
   "name": "python3"
  },
  "language_info": {
   "codemirror_mode": {
    "name": "ipython",
    "version": 3
   },
   "file_extension": ".py",
   "mimetype": "text/x-python",
   "name": "python",
   "nbconvert_exporter": "python",
   "pygments_lexer": "ipython3",
   "version": "3.10.6"
  },
  "orig_nbformat": 4,
  "vscode": {
   "interpreter": {
    "hash": "36d8c640247db72d39d1dc0bb861336356b93021c587e8eaad646cc285eb4b15"
   }
  }
 },
 "nbformat": 4,
 "nbformat_minor": 2
}
