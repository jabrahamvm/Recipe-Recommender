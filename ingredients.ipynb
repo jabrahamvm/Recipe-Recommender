{
 "cells": [
  {
   "cell_type": "markdown",
   "metadata": {},
   "source": [
    "### Recipe recommender based on similar ingredients"
   ]
  },
  {
   "cell_type": "markdown",
   "metadata": {},
   "source": [
    "## Data Analysis"
   ]
  },
  {
   "cell_type": "code",
   "execution_count": 1,
   "metadata": {},
   "outputs": [],
   "source": [
    "import pandas as pd\n",
    "import nltk\n",
    "import re"
   ]
  },
  {
   "cell_type": "code",
   "execution_count": 2,
   "metadata": {},
   "outputs": [
    {
     "data": {
      "text/html": [
       "<div>\n",
       "<style scoped>\n",
       "    .dataframe tbody tr th:only-of-type {\n",
       "        vertical-align: middle;\n",
       "    }\n",
       "\n",
       "    .dataframe tbody tr th {\n",
       "        vertical-align: top;\n",
       "    }\n",
       "\n",
       "    .dataframe thead th {\n",
       "        text-align: right;\n",
       "    }\n",
       "</style>\n",
       "<table border=\"1\" class=\"dataframe\">\n",
       "  <thead>\n",
       "    <tr style=\"text-align: right;\">\n",
       "      <th></th>\n",
       "      <th>recipe_id</th>\n",
       "      <th>recipe_name</th>\n",
       "      <th>ingredients</th>\n",
       "    </tr>\n",
       "  </thead>\n",
       "  <tbody>\n",
       "    <tr>\n",
       "      <th>0</th>\n",
       "      <td>240488</td>\n",
       "      <td>Pork Loin, Apples, and Sauerkraut</td>\n",
       "      <td>sauerkraut drained^Granny Smith apples sliced^...</td>\n",
       "    </tr>\n",
       "    <tr>\n",
       "      <th>1</th>\n",
       "      <td>218939</td>\n",
       "      <td>Foolproof Rosemary Chicken Wings</td>\n",
       "      <td>chicken wings^sprigs rosemary^head garlic^oliv...</td>\n",
       "    </tr>\n",
       "    <tr>\n",
       "      <th>2</th>\n",
       "      <td>87211</td>\n",
       "      <td>Chicken Pesto Paninis</td>\n",
       "      <td>focaccia bread quartered^prepared basil pesto^...</td>\n",
       "    </tr>\n",
       "    <tr>\n",
       "      <th>3</th>\n",
       "      <td>245714</td>\n",
       "      <td>Potato Bacon Pizza</td>\n",
       "      <td>red potatoes^strips bacon^Sauce:^heavy whippin...</td>\n",
       "    </tr>\n",
       "    <tr>\n",
       "      <th>4</th>\n",
       "      <td>218545</td>\n",
       "      <td>Latin-Inspired Spicy Cream Chicken Stew</td>\n",
       "      <td>skinless boneless chicken breast halves^diced ...</td>\n",
       "    </tr>\n",
       "  </tbody>\n",
       "</table>\n",
       "</div>"
      ],
      "text/plain": [
       "   recipe_id                              recipe_name  \\\n",
       "0     240488        Pork Loin, Apples, and Sauerkraut   \n",
       "1     218939         Foolproof Rosemary Chicken Wings   \n",
       "2      87211                    Chicken Pesto Paninis   \n",
       "3     245714                       Potato Bacon Pizza   \n",
       "4     218545  Latin-Inspired Spicy Cream Chicken Stew   \n",
       "\n",
       "                                         ingredients  \n",
       "0  sauerkraut drained^Granny Smith apples sliced^...  \n",
       "1  chicken wings^sprigs rosemary^head garlic^oliv...  \n",
       "2  focaccia bread quartered^prepared basil pesto^...  \n",
       "3  red potatoes^strips bacon^Sauce:^heavy whippin...  \n",
       "4  skinless boneless chicken breast halves^diced ...  "
      ]
     },
     "execution_count": 2,
     "metadata": {},
     "output_type": "execute_result"
    }
   ],
   "source": [
    "recipe_ingredients = pd.read_csv('./data/core-data_recipe.csv')\n",
    "recipe_ingredients = recipe_ingredients.drop(columns=[\"image_url\", \"cooking_directions\",\"nutritions\"])\n",
    "recipe_ingredients.head()"
   ]
  },
  {
   "cell_type": "code",
   "execution_count": 3,
   "metadata": {},
   "outputs": [],
   "source": [
    "recipe_ingredients[\"ingredients_together\"] = recipe_ingredients[\"ingredients\"].apply(lambda x: \" \".join(x.split(\"^\")))"
   ]
  },
  {
   "cell_type": "code",
   "execution_count": 4,
   "metadata": {},
   "outputs": [],
   "source": [
    "recipe_ingredients[\"ingredients_together\"] = recipe_ingredients[\"ingredients_together\"].apply(lambda x: x.lower())"
   ]
  },
  {
   "cell_type": "code",
   "execution_count": 5,
   "metadata": {},
   "outputs": [
    {
     "data": {
      "text/plain": [
       "0    sauerkraut drained granny smith apples sliced ...\n",
       "1    chicken wings sprigs rosemary head garlic oliv...\n",
       "2    focaccia bread quartered prepared basil pesto ...\n",
       "3    red potatoes strips bacon sauce: heavy whippin...\n",
       "4    skinless boneless chicken breast halves diced ...\n",
       "Name: ingredients_together, dtype: object"
      ]
     },
     "execution_count": 5,
     "metadata": {},
     "output_type": "execute_result"
    }
   ],
   "source": [
    "recipe_ingredients[\"ingredients_together\"].head()"
   ]
  },
  {
   "cell_type": "markdown",
   "metadata": {},
   "source": [
    "### Cleaning our ingredients"
   ]
  },
  {
   "cell_type": "code",
   "execution_count": 6,
   "metadata": {},
   "outputs": [],
   "source": [
    "# Remove text between ()\n",
    "recipe_ingredients[\"ingredients_together\"] = recipe_ingredients[\"ingredients_together\"].apply(lambda x: re.sub(\"\\(.*?\\)\",\"\",x))"
   ]
  },
  {
   "cell_type": "code",
   "execution_count": 7,
   "metadata": {},
   "outputs": [],
   "source": [
    "import string\n",
    "\"\"\"Punctuation Removal\"\"\"\n",
    "def remove_punctuations(text):\n",
    "    for char in string.punctuation:\n",
    "        text = text.replace(char, '')\n",
    "    return text"
   ]
  },
  {
   "cell_type": "code",
   "execution_count": 8,
   "metadata": {},
   "outputs": [],
   "source": [
    "recipe_ingredients[\"ingredients_together\"] = recipe_ingredients[\"ingredients_together\"].apply(remove_punctuations)"
   ]
  },
  {
   "cell_type": "code",
   "execution_count": 9,
   "metadata": {},
   "outputs": [],
   "source": [
    "recipe_ingredients[\"ingredients_together\"] = recipe_ingredients[\"ingredients_together\"].apply(lambda str: re.sub(r'[^a-zA-Z\\s]', '', str))"
   ]
  },
  {
   "cell_type": "code",
   "execution_count": 10,
   "metadata": {},
   "outputs": [],
   "source": [
    "recipe_ingredients.to_csv(\"test.csv\")"
   ]
  },
  {
   "cell_type": "code",
   "execution_count": 11,
   "metadata": {},
   "outputs": [
    {
     "data": {
      "text/html": [
       "<div>\n",
       "<style scoped>\n",
       "    .dataframe tbody tr th:only-of-type {\n",
       "        vertical-align: middle;\n",
       "    }\n",
       "\n",
       "    .dataframe tbody tr th {\n",
       "        vertical-align: top;\n",
       "    }\n",
       "\n",
       "    .dataframe thead th {\n",
       "        text-align: right;\n",
       "    }\n",
       "</style>\n",
       "<table border=\"1\" class=\"dataframe\">\n",
       "  <thead>\n",
       "    <tr style=\"text-align: right;\">\n",
       "      <th></th>\n",
       "      <th>recipe_id</th>\n",
       "      <th>recipe_name</th>\n",
       "      <th>ingredients</th>\n",
       "      <th>ingredients_together</th>\n",
       "    </tr>\n",
       "  </thead>\n",
       "  <tbody>\n",
       "    <tr>\n",
       "      <th>0</th>\n",
       "      <td>240488</td>\n",
       "      <td>Pork Loin, Apples, and Sauerkraut</td>\n",
       "      <td>sauerkraut drained^Granny Smith apples sliced^...</td>\n",
       "      <td>sauerkraut drained granny smith apples sliced ...</td>\n",
       "    </tr>\n",
       "    <tr>\n",
       "      <th>1</th>\n",
       "      <td>218939</td>\n",
       "      <td>Foolproof Rosemary Chicken Wings</td>\n",
       "      <td>chicken wings^sprigs rosemary^head garlic^oliv...</td>\n",
       "      <td>chicken wings sprigs rosemary head garlic oliv...</td>\n",
       "    </tr>\n",
       "    <tr>\n",
       "      <th>2</th>\n",
       "      <td>87211</td>\n",
       "      <td>Chicken Pesto Paninis</td>\n",
       "      <td>focaccia bread quartered^prepared basil pesto^...</td>\n",
       "      <td>focaccia bread quartered prepared basil pesto ...</td>\n",
       "    </tr>\n",
       "    <tr>\n",
       "      <th>3</th>\n",
       "      <td>245714</td>\n",
       "      <td>Potato Bacon Pizza</td>\n",
       "      <td>red potatoes^strips bacon^Sauce:^heavy whippin...</td>\n",
       "      <td>red potatoes strips bacon sauce heavy whipping...</td>\n",
       "    </tr>\n",
       "    <tr>\n",
       "      <th>4</th>\n",
       "      <td>218545</td>\n",
       "      <td>Latin-Inspired Spicy Cream Chicken Stew</td>\n",
       "      <td>skinless boneless chicken breast halves^diced ...</td>\n",
       "      <td>skinless boneless chicken breast halves diced ...</td>\n",
       "    </tr>\n",
       "  </tbody>\n",
       "</table>\n",
       "</div>"
      ],
      "text/plain": [
       "   recipe_id                              recipe_name  \\\n",
       "0     240488        Pork Loin, Apples, and Sauerkraut   \n",
       "1     218939         Foolproof Rosemary Chicken Wings   \n",
       "2      87211                    Chicken Pesto Paninis   \n",
       "3     245714                       Potato Bacon Pizza   \n",
       "4     218545  Latin-Inspired Spicy Cream Chicken Stew   \n",
       "\n",
       "                                         ingredients  \\\n",
       "0  sauerkraut drained^Granny Smith apples sliced^...   \n",
       "1  chicken wings^sprigs rosemary^head garlic^oliv...   \n",
       "2  focaccia bread quartered^prepared basil pesto^...   \n",
       "3  red potatoes^strips bacon^Sauce:^heavy whippin...   \n",
       "4  skinless boneless chicken breast halves^diced ...   \n",
       "\n",
       "                                ingredients_together  \n",
       "0  sauerkraut drained granny smith apples sliced ...  \n",
       "1  chicken wings sprigs rosemary head garlic oliv...  \n",
       "2  focaccia bread quartered prepared basil pesto ...  \n",
       "3  red potatoes strips bacon sauce heavy whipping...  \n",
       "4  skinless boneless chicken breast halves diced ...  "
      ]
     },
     "execution_count": 11,
     "metadata": {},
     "output_type": "execute_result"
    }
   ],
   "source": [
    "recipe_ingredients.head()"
   ]
  },
  {
   "cell_type": "markdown",
   "metadata": {},
   "source": [
    "### Stop words"
   ]
  },
  {
   "cell_type": "code",
   "execution_count": 12,
   "metadata": {},
   "outputs": [],
   "source": [
    "stopwords = nltk.corpus.stopwords.words(\"english\")\n",
    "\n",
    "ingredients_sw = [\"salt\", \"ground\", \"sugar\", \"chopped\", \"white\", \"oil\", \"fresh\", \"black\", \"taste\", \"water\", \"allpurpose\", \n",
    "    \"dried\", \"red\", \"green\", \"baking\", \"extract\", \"shredded\", \"sliced\", \"large\", \"vegetable\", \"brown\", \"diced\", \"grated\", \n",
    "    \"drained\", \"dry\", \"minced\", \"frozen\", \"mix\", \"soda\", \"fluid\", \"small\", \"cut\", \"skinless\", \"boneless\", \"seasoning\", \"cooked\", \n",
    "    \"hot\", \"cold\", \"packed\", \"soup\", \"ounce\", \"finely\", \"peeled\", \"condensed\", \"confectioners\", \"freshly\", \"heavy\", \"inch\", \"medium\", \n",
    "    \"sweet\", \"beaten\", \"prepared\", \"divided\", \"rinsed\", \"unsweetened\", \"cooking\", \"seeds\", \"dressing\", \"uncooked\", \"cubed\", \"ice\",\n",
    "    \"light\", \"pieces\", \"shortening\", \"thinly\", \"rasins\", \"head\", \"wheat\", \"halved\", \"unsalted\", \"instant\", \"ounces\", \"topping\", \"crumbled\", \n",
    "    \"spray\", \"melted\", \"flavored\", \"whipped\", \"stock\", \"lean\", \"whipping\", \"frying\", \"pitted\", \"seasoned\", \"sweetened\", \"warm\", \"sea\", \"extravirgin\", \"toasted\",\n",
    "    \"slices\", \"trimmed\", \"rolled\", \"flaked\", \"leaf\", \"mashed\", \"plain\", \"evaporated\", \"food\", \"roast\", \"bottle\", \"halfandhalf\", \"chunks\", \"smoked\", \"boiling\",\n",
    "    \"extra\", \"allspice\", \"seeded\", \"liquid\", \"thick\", \"garnish\", \"blend\", \"quartered\", \"refrigerated\", \"distilled\", \"roasted\", \"spice\", \"monterey\", \"softened\",\n",
    "    \"italianstyle\", \"dough\", \"squares\", \"weed\", \"round\", \"removed\", \"virgin\", \"lengthwise\", \"whole\", \"lowfat\", \"strips\", \"room\", \"bag\", \"thin\",\n",
    "    \"room\", \"temperature\", \"half\", \"concentrate\", \"torn\", \"hearts\", \"blue\", \"coloring\", \"thighs\", \"slivered\", \"undrained\", \"recipe\", \"fatfree\", \n",
    "    \"unbaked\", \"fat\", \"nonfat\", \"long\", \"greek\", \"cracked\", \"creme\", \"separated\", \"american\", \"broken\", \"smoked\", \"shell\", \"envelope\", \"dates\", \"powered\",\n",
    "    \"stuffing\", \"preserves\", \"rounds\", \"de\", \"squeezed\", \"quickcooking\", \"double\", \"crispy\", \"deep\", \"fine\", \"refried\", \"new\", \"and\", \"to\", \"into\", \"for\",\n",
    "    \"of\", \"with\", \"in\", \"baby\", \"a\", \"as\", \"quick\", \"raw\", \"at\", \"soft\", \"old\", \"very\", \"plus\", \"free\", \"ears\", \"such\", \"hair\", \"single\",\n",
    "    \"button\", \"top\", \"cod\", \"low\", \n",
    "]"
   ]
  },
  {
   "cell_type": "code",
   "execution_count": 13,
   "metadata": {},
   "outputs": [],
   "source": [
    "recipe_ingredients[\"ingredients_nostopw\"] = recipe_ingredients[\"ingredients_together\"].apply(lambda x: \" \".join([word for word in x.split() if word not in stopwords]))"
   ]
  },
  {
   "cell_type": "code",
   "execution_count": 14,
   "metadata": {},
   "outputs": [],
   "source": [
    "recipe_ingredients[\"ingredients_nostopw\"] = recipe_ingredients[\"ingredients_nostopw\"].apply(lambda x: \" \".join([word for word in x.split() if word not in ingredients_sw]))"
   ]
  },
  {
   "cell_type": "code",
   "execution_count": 15,
   "metadata": {},
   "outputs": [
    {
     "name": "stdout",
     "output_type": "stream",
     "text": [
      "pepper:\t25426\n",
      "butter:\t15831\n",
      "cheese:\t15151\n",
      "garlic:\t14116\n",
      "onion:\t13673\n",
      "flour:\t12915\n",
      "powder:\t11376\n",
      "cream:\t10029\n",
      "sauce:\t9730\n",
      "milk:\t9374\n",
      "chicken:\t9004\n",
      "olive:\t8346\n",
      "eggs:\t7963\n",
      "juice:\t7175\n",
      "vanilla:\t7151\n",
      "egg:\t5777\n",
      "lemon:\t5742\n",
      "tomatoes:\t4664\n",
      "cinnamon:\t4555\n",
      "bell:\t4434\n",
      "beef:\t4359\n",
      "vinegar:\t4117\n",
      "onions:\t3567\n",
      "bread:\t3538\n",
      "chocolate:\t3401\n",
      "tomato:\t3348\n",
      "beans:\t3294\n",
      "broth:\t3278\n",
      "parsley:\t3201\n",
      "cheddar:\t3162\n"
     ]
    }
   ],
   "source": [
    "vocabulary1 = nltk.FreqDist()\n",
    "\n",
    "for ingredients in recipe_ingredients[\"ingredients_nostopw\"]:\n",
    "    ingredients = ingredients.split()\n",
    "    vocabulary1.update(ingredients)\n",
    "\n",
    "for word, frequency in vocabulary1.most_common(30):\n",
    "    print(f'{word}:\\t{frequency}')"
   ]
  },
  {
   "cell_type": "markdown",
   "metadata": {},
   "source": [
    "From here we can choose which words we consider irrelevant for ingredients such as:\n",
    " * salt\n",
    " * fresh\n",
    " * dried\n",
    " * green\n",
    " * black\n",
    " * taste\n",
    " * ..."
   ]
  },
  {
   "cell_type": "code",
   "execution_count": 16,
   "metadata": {},
   "outputs": [
    {
     "name": "stdout",
     "output_type": "stream",
     "text": [
      "[('pepper', 25426), ('butter', 15831), ('cheese', 15151), ('garlic', 14116), ('onion', 13673), ('flour', 12915), ('powder', 11376), ('cream', 10029), ('sauce', 9730), ('milk', 9374)]\n"
     ]
    }
   ],
   "source": [
    "print(vocabulary1.most_common(10))"
   ]
  },
  {
   "cell_type": "code",
   "execution_count": 17,
   "metadata": {},
   "outputs": [
    {
     "data": {
      "image/png": "[encoded data removed]",
      "text/plain": [
       "<Figure size 432x288 with 1 Axes>"
      ]
     },
     "metadata": {
      "needs_background": "light"
     },
     "output_type": "display_data"
    },
    {
     "data": {
      "text/plain": [
       "<AxesSubplot:xlabel='Samples', ylabel='Counts'>"
      ]
     },
     "execution_count": 17,
     "metadata": {},
     "output_type": "execute_result"
    }
   ],
   "source": [
    "vocabulary1.plot(50)"
   ]
  },
  {
   "cell_type": "code",
   "execution_count": 18,
   "metadata": {},
   "outputs": [],
   "source": [
    "from prettytable import PrettyTable\n",
    "data = PrettyTable([\"Ingredient\", \"Count\"])\n",
    "for i in vocabulary1.most_common(600):\n",
    "    data.add_row(i)\n",
    "with open(\"first_vocab.txt\", 'w') as f:\n",
    "    f.write(data.get_string())"
   ]
  },
  {
   "cell_type": "code",
   "execution_count": 21,
   "metadata": {},
   "outputs": [
    {
     "data": {
      "image/png": "[encoded data removed]",
      "text/plain": [
       "<Figure size 2880x2304 with 1 Axes>"
      ]
     },
     "metadata": {
      "needs_background": "light"
     },
     "output_type": "display_data"
    }
   ],
   "source": [
    "import matplotlib.pyplot as plt\n",
    "\n",
    "# create a plot:\n",
    "fig, ax = plt.subplots(figsize=(40,32))\n",
    "plt.barh([x[0] for x in vocabulary1.most_common(40)],[x[1] for x in vocabulary1.most_common(40)], label='Frequency')\n",
    "ax.spines['right'].set_visible(False)\n",
    "ax.spines['top'].set_visible(False)\n",
    "ax.set_xlabel('Number of posts')\n",
    "plt.title('Most common words',fontsize=22,pad=24)\n",
    "plt.show()"
   ]
  },
  {
   "cell_type": "code",
   "execution_count": null,
   "metadata": {},
   "outputs": [],
   "source": []
  }
 ],
 "metadata": {
  "kernelspec": {
   "display_name": "Python 3.10.6 ('recipe-recommender')",
   "language": "python",
   "name": "python3"
  },
  "language_info": {
   "codemirror_mode": {
    "name": "ipython",
    "version": 3
   },
   "file_extension": ".py",
   "mimetype": "text/x-python",
   "name": "python",
   "nbconvert_exporter": "python",
   "pygments_lexer": "ipython3",
   "version": "3.10.6"
  },
  "orig_nbformat": 4,
  "vscode": {
   "interpreter": {
    "hash": "36d8c640247db72d39d1dc0bb861336356b93021c587e8eaad646cc285eb4b15"
   }
  }
 },
 "nbformat": 4,
 "nbformat_minor": 2
}
