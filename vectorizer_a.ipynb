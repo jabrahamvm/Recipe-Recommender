{
 "cells": [
  {
   "cell_type": "code",
   "execution_count": 3,
   "metadata": {},
   "outputs": [],
   "source": [
    "import pandas as pd\n",
    "from sklearn.feature_extraction.text import TfidfVectorizer"
   ]
  },
  {
   "cell_type": "code",
   "execution_count": 4,
   "metadata": {},
   "outputs": [
    {
     "name": "stdout",
     "output_type": "stream",
     "text": [
      "<class 'pandas.core.frame.DataFrame'>\n",
      "RangeIndex: 5000 entries, 0 to 4999\n",
      "Data columns (total 4 columns):\n",
      " #   Column              Non-Null Count  Dtype \n",
      "---  ------              --------------  ----- \n",
      " 0   recipe_id           5000 non-null   int64 \n",
      " 1   recipe_name         5000 non-null   object\n",
      " 2   ingredients         5000 non-null   object\n",
      " 3   ingredients_parsed  5000 non-null   object\n",
      "dtypes: int64(1), object(3)\n",
      "memory usage: 156.4+ KB\n"
     ]
    }
   ],
   "source": [
    "df = pd.read_csv(\"parsed_ds.csv\", nrows=5000)\n",
    "df.info()"
   ]
  },
  {
   "cell_type": "code",
   "execution_count": 5,
   "metadata": {},
   "outputs": [],
   "source": [
    "df = df.dropna()"
   ]
  },
  {
   "cell_type": "code",
   "execution_count": 6,
   "metadata": {},
   "outputs": [],
   "source": [
    "df_ing_parsed = df[\"ingredients_parsed\"].values.astype(\"U\")"
   ]
  },
  {
   "cell_type": "code",
   "execution_count": 7,
   "metadata": {},
   "outputs": [
    {
     "data": {
      "text/plain": [
       "array(['sauerkraut granny smith apples onion caraway apple cider rub thai garlic powder pepper pork loin',\n",
       "       'chicken wings sprigs rosemary garlic olive lemon pepper',\n",
       "       'focaccia bread basil pesto chicken bell pepper onion jack cheese',\n",
       "       ...,\n",
       "       'smithfield® rosemary olive pork tenderloin sandwich bread olive mayonnaise capers lemon pepper arugula havarti cheese dill',\n",
       "       'beef chuck onion garlic powder barbeque sauce biscuit cheddar cheese',\n",
       "       'navy beans soaked overnight ketchup molasses onion mustard bacon'],\n",
       "      dtype='<U386')"
      ]
     },
     "execution_count": 7,
     "metadata": {},
     "output_type": "execute_result"
    }
   ],
   "source": [
    "df_ing_parsed"
   ]
  },
  {
   "cell_type": "code",
   "execution_count": 8,
   "metadata": {},
   "outputs": [],
   "source": [
    "vectorizer = TfidfVectorizer()"
   ]
  },
  {
   "cell_type": "code",
   "execution_count": 9,
   "metadata": {},
   "outputs": [],
   "source": [
    "tfidf_recipe = vectorizer.fit_transform(df_ing_parsed)"
   ]
  },
  {
   "cell_type": "markdown",
   "metadata": {},
   "source": [
    "### Create cosine-similarity matrix"
   ]
  },
  {
   "cell_type": "code",
   "execution_count": 10,
   "metadata": {},
   "outputs": [],
   "source": [
    "from sklearn.metrics.pairwise import cosine_similarity"
   ]
  },
  {
   "cell_type": "code",
   "execution_count": 11,
   "metadata": {},
   "outputs": [
    {
     "data": {
      "text/plain": [
       "(5000, 1993)"
      ]
     },
     "execution_count": 11,
     "metadata": {},
     "output_type": "execute_result"
    }
   ],
   "source": [
    "tfidf_recipe.shape"
   ]
  },
  {
   "cell_type": "code",
   "execution_count": 12,
   "metadata": {},
   "outputs": [],
   "source": [
    "cosine_sim = cosine_similarity(tfidf_recipe, tfidf_recipe)"
   ]
  },
  {
   "cell_type": "code",
   "execution_count": 13,
   "metadata": {},
   "outputs": [
    {
     "name": "stdout",
     "output_type": "stream",
     "text": [
      "[[1.         0.02737998 0.02049161 ... 0.02900325 0.05889979 0.01027878]\n",
      " [0.02737998 1.         0.04300483 ... 0.22471369 0.02751899 0.        ]\n",
      " [0.02049161 0.04300483 1.         ... 0.06573276 0.05043095 0.01484717]\n",
      " ...\n",
      " [0.02900325 0.22471369 0.06573276 ... 1.         0.01989012 0.        ]\n",
      " [0.05889979 0.02751899 0.05043095 ... 0.01989012 1.         0.01736296]\n",
      " [0.01027878 0.         0.01484717 ... 0.         0.01736296 1.        ]]\n"
     ]
    }
   ],
   "source": [
    "print(cosine_sim)"
   ]
  },
  {
   "cell_type": "code",
   "execution_count": null,
   "metadata": {},
   "outputs": [],
   "source": []
  },
  {
   "cell_type": "code",
   "execution_count": 14,
   "metadata": {},
   "outputs": [],
   "source": [
    "import numpy as np"
   ]
  },
  {
   "cell_type": "code",
   "execution_count": 15,
   "metadata": {},
   "outputs": [],
   "source": [
    "def recommend(strOfIngredients):\n",
    "    #create a list of skills\n",
    "    #skills = listOfSkills\n",
    "    #to lower case and remove spaces\n",
    "    #skills = [i.lower().strip() for i in skills]\n",
    "    #remove duplicates\n",
    "    #skills = list(dict.fromkeys(skills))\n",
    "    #all list of single string\n",
    "    #skills = ' '.join(skills)\n",
    "    #vectorize the skills\n",
    "    ing_v = vectorizer.transform([strOfIngredients])\n",
    "    \n",
    "    #se calcula la similitud del coseno de la lista de skills dadas con el resto de las listas de skills\n",
    "    #con eso se va a obtener un vector de similitud con cada uno de los trabajos de la lista de trabajos    \n",
    "    similarity_list = cosine_similarity(ing_v, tfidf_recipe)\n",
    "    \n",
    "    #sort the list of similarity in order desc and get the index\n",
    "    #es una lista sorteada de distancias de menor a mayor, nosotros necesitamos la mayor similitud, por eso se hace sort descendentemente \n",
    "    #para obtener los indices de la mayor similitud\n",
    "    sorted_indexes = np.argsort(similarity_list[0])[::-1]\n",
    "    \n",
    "    #get 10 recommendations jobs\n",
    "    return df['recipe_name'].iloc[sorted_indexes].values[0:20]"
   ]
  },
  {
   "cell_type": "code",
   "execution_count": 16,
   "metadata": {},
   "outputs": [
    {
     "name": "stdout",
     "output_type": "stream",
     "text": [
      "sauerkraut granny smith apples onion caraway apple cider rub thai garlic powder pepper pork loin\n"
     ]
    }
   ],
   "source": [
    "print(df[\"ingredients_parsed\"].iloc[0])"
   ]
  },
  {
   "cell_type": "code",
   "execution_count": 18,
   "metadata": {},
   "outputs": [
    {
     "name": "stdout",
     "output_type": "stream",
     "text": [
      "['Amazing Ground Turkey Tomato Sauce' 'Rice and Beef Stuffed Tomatoes'\n",
      " 'Johnny Marzetti III' 'Lancaster County Stuffed Green Pepper Boats'\n",
      " \"Mom's Sweet Spaghetti Sauce\" 'Hotdish No One Likes'\n",
      " 'Stuffed Red Peppers' \"Grandma Slattery's Michigan Sauce\"\n",
      " 'Tomato Bacon Grilled Cheese' 'Caveman Stew' 'Thirty Minute Meal'\n",
      " 'Old Italian Meat Sauce' 'Homestyle Beef, Macaroni and Cheese'\n",
      " 'Porcupine Meatballs in Tomato Sauce' 'Taco Soup IV' 'Easy Lasagna III'\n",
      " 'Thermos Bottle Stew' 'Golabki (Stuffed Cabbage Rolls)'\n",
      " 'Middle Eastern Cumin Meatballs' 'Cuban Ropa Vieja']\n"
     ]
    }
   ],
   "source": [
    "print(recommend(\"tomato\"))"
   ]
  }
 ],
 "metadata": {
  "kernelspec": {
   "display_name": "Python 3.9.5 64-bit",
   "language": "python",
   "name": "python3"
  },
  "language_info": {
   "codemirror_mode": {
    "name": "ipython",
    "version": 3
   },
   "file_extension": ".py",
   "mimetype": "text/x-python",
   "name": "python",
   "nbconvert_exporter": "python",
   "pygments_lexer": "ipython3",
   "version": "3.9.5"
  },
  "orig_nbformat": 4,
  "vscode": {
   "interpreter": {
    "hash": "4a642a9a94d05d387b7a27be99b5a4ff6656c8c24931cc81c2f78dd14cfb5dc8"
   }
  }
 },
 "nbformat": 4,
 "nbformat_minor": 2
}
