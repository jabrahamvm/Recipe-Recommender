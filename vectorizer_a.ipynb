{
 "cells": [
  {
   "cell_type": "code",
   "execution_count": 1,
   "metadata": {},
   "outputs": [],
   "source": [
    "import pandas as pd\n",
    "from sklearn.feature_extraction.text import TfidfVectorizer"
   ]
  },
  {
   "cell_type": "code",
   "execution_count": 2,
   "metadata": {},
   "outputs": [
    {
     "name": "stdout",
     "output_type": "stream",
     "text": [
      "<class 'pandas.core.frame.DataFrame'>\n",
      "RangeIndex: 45630 entries, 0 to 45629\n",
      "Data columns (total 4 columns):\n",
      " #   Column              Non-Null Count  Dtype \n",
      "---  ------              --------------  ----- \n",
      " 0   recipe_id           45630 non-null  int64 \n",
      " 1   recipe_name         45630 non-null  object\n",
      " 2   ingredients         45630 non-null  object\n",
      " 3   ingredients_parsed  45625 non-null  object\n",
      "dtypes: int64(1), object(3)\n",
      "memory usage: 1.4+ MB\n"
     ]
    }
   ],
   "source": [
    "df = pd.read_csv(\"./data/parsed_ds.csv\")\n",
    "df.info()"
   ]
  },
  {
   "cell_type": "code",
   "execution_count": 3,
   "metadata": {},
   "outputs": [],
   "source": [
    "df = df.dropna()"
   ]
  },
  {
   "cell_type": "code",
   "execution_count": 4,
   "metadata": {},
   "outputs": [],
   "source": [
    "df_ing_parsed = df[\"ingredients_parsed\"].values.astype(\"U\")"
   ]
  },
  {
   "cell_type": "code",
   "execution_count": 5,
   "metadata": {},
   "outputs": [
    {
     "data": {
      "text/plain": [
       "array(['sauerkraut granny smith apples onion caraway apple cider rub thai garlic powder pepper pork loin',\n",
       "       'chicken wings sprigs rosemary garlic olive lemon pepper',\n",
       "       'focaccia bread basil pesto chicken bell pepper onion jack cheese',\n",
       "       ..., 'peaches scoops vanilla cream vanilla soy milk orange juice',\n",
       "       'butter habanero peppers peaches cinnamon gallon vanilla cream crushed jalapeno habanero peanut brittle',\n",
       "       'olive bulb garlic tomatoes tomatoes chiles tomato paste capers olives parsley portobello mushroom caps horseradish habanero sauce italian oregano cumin'],\n",
       "      dtype='<U415')"
      ]
     },
     "execution_count": 5,
     "metadata": {},
     "output_type": "execute_result"
    }
   ],
   "source": [
    "df_ing_parsed"
   ]
  },
  {
   "cell_type": "code",
   "execution_count": 6,
   "metadata": {},
   "outputs": [],
   "source": [
    "#df[\"ingredients_parsed\"].to_list()"
   ]
  },
  {
   "cell_type": "code",
   "execution_count": 7,
   "metadata": {},
   "outputs": [],
   "source": [
    "vectorizer = TfidfVectorizer()"
   ]
  },
  {
   "cell_type": "code",
   "execution_count": 8,
   "metadata": {},
   "outputs": [
    {
     "data": {
      "text/html": [
       "<style>#sk-container-id-1 {color: black;background-color: white;}#sk-container-id-1 pre{padding: 0;}#sk-container-id-1 div.sk-toggleable {background-color: white;}#sk-container-id-1 label.sk-toggleable__label {cursor: pointer;display: block;width: 100%;margin-bottom: 0;padding: 0.3em;box-sizing: border-box;text-align: center;}#sk-container-id-1 label.sk-toggleable__label-arrow:before {content: \"▸\";float: left;margin-right: 0.25em;color: #696969;}#sk-container-id-1 label.sk-toggleable__label-arrow:hover:before {color: black;}#sk-container-id-1 div.sk-estimator:hover label.sk-toggleable__label-arrow:before {color: black;}#sk-container-id-1 div.sk-toggleable__content {max-height: 0;max-width: 0;overflow: hidden;text-align: left;background-color: #f0f8ff;}#sk-container-id-1 div.sk-toggleable__content pre {margin: 0.2em;color: black;border-radius: 0.25em;background-color: #f0f8ff;}#sk-container-id-1 input.sk-toggleable__control:checked~div.sk-toggleable__content {max-height: 200px;max-width: 100%;overflow: auto;}#sk-container-id-1 input.sk-toggleable__control:checked~label.sk-toggleable__label-arrow:before {content: \"▾\";}#sk-container-id-1 div.sk-estimator input.sk-toggleable__control:checked~label.sk-toggleable__label {background-color: #d4ebff;}#sk-container-id-1 div.sk-label input.sk-toggleable__control:checked~label.sk-toggleable__label {background-color: #d4ebff;}#sk-container-id-1 input.sk-hidden--visually {border: 0;clip: rect(1px 1px 1px 1px);clip: rect(1px, 1px, 1px, 1px);height: 1px;margin: -1px;overflow: hidden;padding: 0;position: absolute;width: 1px;}#sk-container-id-1 div.sk-estimator {font-family: monospace;background-color: #f0f8ff;border: 1px dotted black;border-radius: 0.25em;box-sizing: border-box;margin-bottom: 0.5em;}#sk-container-id-1 div.sk-estimator:hover {background-color: #d4ebff;}#sk-container-id-1 div.sk-parallel-item::after {content: \"\";width: 100%;border-bottom: 1px solid gray;flex-grow: 1;}#sk-container-id-1 div.sk-label:hover label.sk-toggleable__label {background-color: #d4ebff;}#sk-container-id-1 div.sk-serial::before {content: \"\";position: absolute;border-left: 1px solid gray;box-sizing: border-box;top: 0;bottom: 0;left: 50%;z-index: 0;}#sk-container-id-1 div.sk-serial {display: flex;flex-direction: column;align-items: center;background-color: white;padding-right: 0.2em;padding-left: 0.2em;position: relative;}#sk-container-id-1 div.sk-item {position: relative;z-index: 1;}#sk-container-id-1 div.sk-parallel {display: flex;align-items: stretch;justify-content: center;background-color: white;position: relative;}#sk-container-id-1 div.sk-item::before, #sk-container-id-1 div.sk-parallel-item::before {content: \"\";position: absolute;border-left: 1px solid gray;box-sizing: border-box;top: 0;bottom: 0;left: 50%;z-index: -1;}#sk-container-id-1 div.sk-parallel-item {display: flex;flex-direction: column;z-index: 1;position: relative;background-color: white;}#sk-container-id-1 div.sk-parallel-item:first-child::after {align-self: flex-end;width: 50%;}#sk-container-id-1 div.sk-parallel-item:last-child::after {align-self: flex-start;width: 50%;}#sk-container-id-1 div.sk-parallel-item:only-child::after {width: 0;}#sk-container-id-1 div.sk-dashed-wrapped {border: 1px dashed gray;margin: 0 0.4em 0.5em 0.4em;box-sizing: border-box;padding-bottom: 0.4em;background-color: white;}#sk-container-id-1 div.sk-label label {font-family: monospace;font-weight: bold;display: inline-block;line-height: 1.2em;}#sk-container-id-1 div.sk-label-container {text-align: center;}#sk-container-id-1 div.sk-container {/* jupyter's `normalize.less` sets `[hidden] { display: none; }` but bootstrap.min.css set `[hidden] { display: none !important; }` so we also need the `!important` here to be able to override the default hidden behavior on the sphinx rendered scikit-learn.org. See: https://github.com/scikit-learn/scikit-learn/issues/21755 */display: inline-block !important;position: relative;}#sk-container-id-1 div.sk-text-repr-fallback {display: none;}</style><div id=\"sk-container-id-1\" class=\"sk-top-container\"><div class=\"sk-text-repr-fallback\"><pre>TfidfVectorizer()</pre><b>In a Jupyter environment, please rerun this cell to show the HTML representation or trust the notebook. <br />On GitHub, the HTML representation is unable to render, please try loading this page with nbviewer.org.</b></div><div class=\"sk-container\" hidden><div class=\"sk-item\"><div class=\"sk-estimator sk-toggleable\"><input class=\"sk-toggleable__control sk-hidden--visually\" id=\"sk-estimator-id-1\" type=\"checkbox\" checked><label for=\"sk-estimator-id-1\" class=\"sk-toggleable__label sk-toggleable__label-arrow\">TfidfVectorizer</label><div class=\"sk-toggleable__content\"><pre>TfidfVectorizer()</pre></div></div></div></div></div>"
      ],
      "text/plain": [
       "TfidfVectorizer()"
      ]
     },
     "execution_count": 8,
     "metadata": {},
     "output_type": "execute_result"
    }
   ],
   "source": [
    "vectorizer.fit(df_ing_parsed)"
   ]
  },
  {
   "cell_type": "code",
   "execution_count": 9,
   "metadata": {},
   "outputs": [],
   "source": [
    "tfidf_recipe = vectorizer.transform(df[\"ingredients_parsed\"])"
   ]
  },
  {
   "cell_type": "code",
   "execution_count": 11,
   "metadata": {},
   "outputs": [
    {
     "name": "stdout",
     "output_type": "stream",
     "text": [
      "  (0, 3945)\t0.3329531308369232\n",
      "  (0, 3593)\t0.297528174400364\n",
      "  (0, 3385)\t0.32085017305478364\n",
      "  (0, 3324)\t0.3844422188658402\n",
      "  (0, 3057)\t0.12501529779750184\n",
      "  (0, 3031)\t0.20185053551072848\n",
      "  (0, 2882)\t0.09228101767125527\n",
      "  (0, 2710)\t0.1100561342109721\n",
      "  (0, 2273)\t0.3044709975385795\n",
      "  (0, 1739)\t0.297528174400364\n",
      "  (0, 1635)\t0.10903117396114767\n",
      "  (0, 885)\t0.24692286983266096\n",
      "  (0, 694)\t0.3294660091248842\n",
      "  (0, 230)\t0.24491840008216356\n",
      "  (0, 222)\t0.22418912847292727\n",
      "  (1, 4263)\t0.575856597491299\n",
      "  (1, 3708)\t0.48319244455714555\n",
      "  (1, 3307)\t0.4210994077136455\n",
      "  (1, 2882)\t0.16274479280297344\n",
      "  (1, 2701)\t0.23896172645140176\n",
      "  (1, 2199)\t0.2786823865503703\n",
      "  (1, 1635)\t0.1922850036026327\n",
      "  (1, 808)\t0.24364638309414482\n",
      "  (2, 2906)\t0.4407222209572816\n",
      "  (2, 2882)\t0.12806415385602504\n",
      "  :\t:\n",
      "  (45623, 1623)\t0.2991226082152092\n",
      "  (45623, 1119)\t0.17011736563387303\n",
      "  (45623, 1071)\t0.11912519560598067\n",
      "  (45623, 892)\t0.14889658067472133\n",
      "  (45623, 601)\t0.09686212550406498\n",
      "  (45623, 539)\t0.48840465625159796\n",
      "  (45624, 4009)\t0.2883798310125158\n",
      "  (45624, 4005)\t0.1604232593692667\n",
      "  (45624, 3384)\t0.12094629938749812\n",
      "  (45624, 3039)\t0.2856940917069469\n",
      "  (45624, 2835)\t0.20057072883227314\n",
      "  (45624, 2819)\t0.15975211661558536\n",
      "  (45624, 2728)\t0.17922605247250661\n",
      "  (45624, 2703)\t0.20927468853129078\n",
      "  (45624, 2701)\t0.12054518111449758\n",
      "  (45624, 2580)\t0.21443151922152928\n",
      "  (45624, 1995)\t0.19231340471047456\n",
      "  (45624, 1934)\t0.2661176692690797\n",
      "  (45624, 1802)\t0.3083786811859919\n",
      "  (45624, 1635)\t0.09699892501234987\n",
      "  (45624, 1142)\t0.17953132321890838\n",
      "  (45624, 824)\t0.2645388159201789\n",
      "  (45624, 687)\t0.32598141456050317\n",
      "  (45624, 683)\t0.26980753760603704\n",
      "  (45624, 574)\t0.3147881035296022\n"
     ]
    }
   ],
   "source": [
    "print(tfidf_recipe)"
   ]
  }
 ],
 "metadata": {
  "kernelspec": {
   "display_name": "Python 3.10.6 ('recipe-recommender')",
   "language": "python",
   "name": "python3"
  },
  "language_info": {
   "codemirror_mode": {
    "name": "ipython",
    "version": 3
   },
   "file_extension": ".py",
   "mimetype": "text/x-python",
   "name": "python",
   "nbconvert_exporter": "python",
   "pygments_lexer": "ipython3",
   "version": "3.10.6"
  },
  "orig_nbformat": 4,
  "vscode": {
   "interpreter": {
    "hash": "36d8c640247db72d39d1dc0bb861336356b93021c587e8eaad646cc285eb4b15"
   }
  }
 },
 "nbformat": 4,
 "nbformat_minor": 2
}
