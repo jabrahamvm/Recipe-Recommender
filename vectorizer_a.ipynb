{
 "cells": [
  {
   "cell_type": "code",
   "execution_count": 1,
   "metadata": {},
   "outputs": [],
   "source": [
    "import pandas as pd\n",
    "from sklearn.feature_extraction.text import TfidfVectorizer"
   ]
  },
  {
   "cell_type": "code",
   "execution_count": 2,
   "metadata": {},
   "outputs": [
    {
     "name": "stdout",
     "output_type": "stream",
     "text": [
      "<class 'pandas.core.frame.DataFrame'>\n",
      "RangeIndex: 5000 entries, 0 to 4999\n",
      "Data columns (total 3 columns):\n",
      " #   Column              Non-Null Count  Dtype \n",
      "---  ------              --------------  ----- \n",
      " 0   recipe_id           5000 non-null   int64 \n",
      " 1   recipe_name         5000 non-null   object\n",
      " 2   ingredients_parsed  5000 non-null   object\n",
      "dtypes: int64(1), object(2)\n",
      "memory usage: 117.3+ KB\n"
     ]
    }
   ],
   "source": [
    "df = pd.read_csv(\"./data/parsed_ds.csv\", nrows=5000)\n",
    "df.info()"
   ]
  },
  {
   "cell_type": "code",
   "execution_count": 3,
   "metadata": {},
   "outputs": [],
   "source": [
    "df = df.dropna()"
   ]
  },
  {
   "cell_type": "code",
   "execution_count": 4,
   "metadata": {},
   "outputs": [],
   "source": [
    "df_ing_parsed = df[\"ingredients_parsed\"].values.astype(\"U\")"
   ]
  },
  {
   "cell_type": "code",
   "execution_count": 5,
   "metadata": {},
   "outputs": [
    {
     "data": {
      "text/plain": [
       "array(['sauerkraut granny smith apples onion caraway apple cider rub thai garlic powder pepper pork loin',\n",
       "       'chicken wings sprigs rosemary garlic olive lemon pepper',\n",
       "       'focaccia bread basil pesto chicken bell pepper onion jack cheese',\n",
       "       ...,\n",
       "       'smithfield® rosemary olive pork tenderloin sandwich bread olive mayonnaise capers lemon pepper arugula havarti cheese dill',\n",
       "       'beef chuck onion garlic powder barbeque sauce biscuit cheddar cheese',\n",
       "       'navy beans soaked overnight ketchup molasses onion mustard bacon'],\n",
       "      dtype='<U386')"
      ]
     },
     "execution_count": 5,
     "metadata": {},
     "output_type": "execute_result"
    }
   ],
   "source": [
    "df_ing_parsed"
   ]
  },
  {
   "cell_type": "code",
   "execution_count": 6,
   "metadata": {},
   "outputs": [],
   "source": [
    "vectorizer = TfidfVectorizer()"
   ]
  },
  {
   "cell_type": "code",
   "execution_count": 7,
   "metadata": {},
   "outputs": [],
   "source": [
    "tfidf_recipe = vectorizer.fit_transform(df_ing_parsed)"
   ]
  },
  {
   "cell_type": "markdown",
   "metadata": {},
   "source": [
    "### Create cosine-similarity matrix"
   ]
  },
  {
   "cell_type": "code",
   "execution_count": 8,
   "metadata": {},
   "outputs": [],
   "source": [
    "from sklearn.metrics.pairwise import cosine_similarity"
   ]
  },
  {
   "cell_type": "code",
   "execution_count": 9,
   "metadata": {},
   "outputs": [
    {
     "data": {
      "text/plain": [
       "(5000, 1992)"
      ]
     },
     "execution_count": 9,
     "metadata": {},
     "output_type": "execute_result"
    }
   ],
   "source": [
    "tfidf_recipe.shape"
   ]
  },
  {
   "cell_type": "code",
   "execution_count": 10,
   "metadata": {},
   "outputs": [],
   "source": [
    "cosine_sim = cosine_similarity(tfidf_recipe, tfidf_recipe)"
   ]
  },
  {
   "cell_type": "code",
   "execution_count": 12,
   "metadata": {},
   "outputs": [
    {
     "name": "stdout",
     "output_type": "stream",
     "text": [
      "[[1.         0.02737998 0.02049161 ... 0.02900325 0.05889979 0.01027878]\n",
      " [0.02737998 1.         0.04300483 ... 0.22471369 0.02751899 0.        ]\n",
      " [0.02049161 0.04300483 1.         ... 0.06573276 0.05043095 0.01484717]\n",
      " ...\n",
      " [0.02900325 0.22471369 0.06573276 ... 1.         0.01989012 0.        ]\n",
      " [0.05889979 0.02751899 0.05043095 ... 0.01989012 1.         0.01736296]\n",
      " [0.01027878 0.         0.01484717 ... 0.         0.01736296 1.        ]]\n"
     ]
    }
   ],
   "source": [
    "print(cosine_sim)"
   ]
  },
  {
   "cell_type": "code",
   "execution_count": null,
   "metadata": {},
   "outputs": [],
   "source": []
  },
  {
   "cell_type": "code",
   "execution_count": 13,
   "metadata": {},
   "outputs": [],
   "source": [
    "import numpy as np"
   ]
  },
  {
   "cell_type": "code",
   "execution_count": 17,
   "metadata": {},
   "outputs": [],
   "source": [
    "def recommend(strOfIngredients):\n",
    "    #create a list of skills\n",
    "    #skills = listOfSkills\n",
    "    #to lower case and remove spaces\n",
    "    #skills = [i.lower().strip() for i in skills]\n",
    "    #remove duplicates\n",
    "    #skills = list(dict.fromkeys(skills))\n",
    "    #all list of single string\n",
    "    #skills = ' '.join(skills)\n",
    "    #vectorize the skills\n",
    "    ing_v = vectorizer.transform([strOfIngredients])\n",
    "    \n",
    "    #se calcula la similitud del coseno de la lista de skills dadas con el resto de las listas de skills\n",
    "    #con eso se va a obtener un vector de similitud con cada uno de los trabajos de la lista de trabajos    \n",
    "    similarity_list = cosine_similarity(ing_v, tfidf_recipe)\n",
    "    \n",
    "    #sort the list of similarity in order desc and get the index\n",
    "    #es una lista sorteada de distancias de menor a mayor, nosotros necesitamos la mayor similitud, por eso se hace sort descendentemente \n",
    "    #para obtener los indices de la mayor similitud\n",
    "    sorted_indexes = np.argsort(similarity_list[0])[::-1]\n",
    "    \n",
    "    #get 10 recommendations jobs\n",
    "    return df['recipe_name'].iloc[sorted_indexes].values[0:20]"
   ]
  },
  {
   "cell_type": "code",
   "execution_count": 18,
   "metadata": {},
   "outputs": [
    {
     "name": "stdout",
     "output_type": "stream",
     "text": [
      "sauerkraut granny smith apples onion caraway apple cider rub thai garlic powder pepper pork loin\n"
     ]
    }
   ],
   "source": [
    "print(df[\"ingredients_parsed\"].iloc[0])"
   ]
  },
  {
   "cell_type": "code",
   "execution_count": 20,
   "metadata": {},
   "outputs": [
    {
     "name": "stdout",
     "output_type": "stream",
     "text": [
      "['Pork Loin, Apples, and Sauerkraut'\n",
      " 'Grilled Pork Tenderloin with Fried Apples'\n",
      " 'Slow Cooker Lancaster County Pork and Sauerkraut'\n",
      " 'Slow Cooker German-Style Pork Roast with Sauerkraut and Potatoes'\n",
      " 'Apple Cheddar Pork' 'Very Moist and Flavorful Roast Turkey'\n",
      " 'Creamy Cabbage with Apples and Bacon' \"Christy's Pork Chops Normandy\"\n",
      " 'Almond Crusted Pork with Apple-Rosemary Sauce'\n",
      " 'Pork Chops and Sauerkraut' 'Very Old Meatloaf Recipe'\n",
      " 'Cranberry and Apple Stuffed Pork Chops'\n",
      " 'German Pork Chops and Sauerkraut' 'Sausage and Sauerkraut'\n",
      " 'Apple Cranberry Stuffed Pork Chops' 'Apple and Pork Stew'\n",
      " 'Brined and Stuffed Pork Loin Roast' 'Thanksgiving Meatloaf'\n",
      " 'Cabbage Apple Soup' 'Roasted Pork Tenderloin']\n",
      "['Amazing Ground Turkey Tomato Sauce' 'Rice and Beef Stuffed Tomatoes'\n",
      " 'Johnny Marzetti III' 'Lancaster County Stuffed Green Pepper Boats'\n",
      " \"Mom's Sweet Spaghetti Sauce\" 'Hotdish No One Likes'\n",
      " 'Stuffed Red Peppers' \"Grandma Slattery's Michigan Sauce\"\n",
      " 'Tomato Bacon Grilled Cheese' 'Caveman Stew' 'Thirty Minute Meal'\n",
      " 'Old Italian Meat Sauce' 'Homestyle Beef, Macaroni and Cheese'\n",
      " 'Porcupine Meatballs in Tomato Sauce' 'Taco Soup IV' 'Easy Lasagna III'\n",
      " 'Thermos Bottle Stew' 'Golabki (Stuffed Cabbage Rolls)'\n",
      " 'Middle Eastern Cumin Meatballs' 'Cuban Ropa Vieja']\n"
     ]
    }
   ],
   "source": [
    "print(recommend(df[\"ingredients_parsed\"].iloc[0]))\n",
    "print(recommend(\"tomato\"))"
   ]
  }
 ],
 "metadata": {
  "kernelspec": {
   "display_name": "Python 3.10.6 ('recipe-recommender')",
   "language": "python",
   "name": "python3"
  },
  "language_info": {
   "codemirror_mode": {
    "name": "ipython",
    "version": 3
   },
   "file_extension": ".py",
   "mimetype": "text/x-python",
   "name": "python",
   "nbconvert_exporter": "python",
   "pygments_lexer": "ipython3",
   "version": "3.10.6"
  },
  "orig_nbformat": 4,
  "vscode": {
   "interpreter": {
    "hash": "36d8c640247db72d39d1dc0bb861336356b93021c587e8eaad646cc285eb4b15"
   }
  }
 },
 "nbformat": 4,
 "nbformat_minor": 2
}
