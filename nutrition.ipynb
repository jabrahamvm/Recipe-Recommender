{
 "cells": [
  {
   "cell_type": "markdown",
   "metadata": {},
   "source": [
    "### Recipe recommender based on similar recipes\n",
    "Recommendation is based on nutrition information of a recipe"
   ]
  },
  {
   "cell_type": "markdown",
   "metadata": {},
   "source": [
    "#### Loading libraries"
   ]
  },
  {
   "cell_type": "code",
   "execution_count": 1,
   "metadata": {},
   "outputs": [],
   "source": [
    "import pandas as pd"
   ]
  },
  {
   "cell_type": "code",
   "execution_count": 2,
   "metadata": {},
   "outputs": [
    {
     "data": {
      "text/html": [
       "<div>\n",
       "<style scoped>\n",
       "    .dataframe tbody tr th:only-of-type {\n",
       "        vertical-align: middle;\n",
       "    }\n",
       "\n",
       "    .dataframe tbody tr th {\n",
       "        vertical-align: top;\n",
       "    }\n",
       "\n",
       "    .dataframe thead th {\n",
       "        text-align: right;\n",
       "    }\n",
       "</style>\n",
       "<table border=\"1\" class=\"dataframe\">\n",
       "  <thead>\n",
       "    <tr style=\"text-align: right;\">\n",
       "      <th></th>\n",
       "      <th>recipe_id</th>\n",
       "      <th>recipe_name</th>\n",
       "      <th>aver_rate</th>\n",
       "      <th>review_nums</th>\n",
       "      <th>ingredients</th>\n",
       "      <th>nutritions</th>\n",
       "    </tr>\n",
       "  </thead>\n",
       "  <tbody>\n",
       "    <tr>\n",
       "      <th>0</th>\n",
       "      <td>222388</td>\n",
       "      <td>Homemade Bacon</td>\n",
       "      <td>5.000000</td>\n",
       "      <td>3</td>\n",
       "      <td>pork belly^smoked paprika^kosher salt^ground b...</td>\n",
       "      <td>{u'niacin': {u'hasCompleteData': False, u'name...</td>\n",
       "    </tr>\n",
       "    <tr>\n",
       "      <th>1</th>\n",
       "      <td>240488</td>\n",
       "      <td>Pork Loin, Apples, and Sauerkraut</td>\n",
       "      <td>4.764706</td>\n",
       "      <td>29</td>\n",
       "      <td>sauerkraut drained^Granny Smith apples sliced^...</td>\n",
       "      <td>{u'niacin': {u'hasCompleteData': False, u'name...</td>\n",
       "    </tr>\n",
       "    <tr>\n",
       "      <th>2</th>\n",
       "      <td>218939</td>\n",
       "      <td>Foolproof Rosemary Chicken Wings</td>\n",
       "      <td>4.571429</td>\n",
       "      <td>12</td>\n",
       "      <td>chicken wings^sprigs rosemary^head garlic^oliv...</td>\n",
       "      <td>{u'niacin': {u'hasCompleteData': True, u'name'...</td>\n",
       "    </tr>\n",
       "    <tr>\n",
       "      <th>3</th>\n",
       "      <td>87211</td>\n",
       "      <td>Chicken Pesto Paninis</td>\n",
       "      <td>4.625000</td>\n",
       "      <td>163</td>\n",
       "      <td>focaccia bread quartered^prepared basil pesto^...</td>\n",
       "      <td>{u'niacin': {u'hasCompleteData': True, u'name'...</td>\n",
       "    </tr>\n",
       "    <tr>\n",
       "      <th>4</th>\n",
       "      <td>245714</td>\n",
       "      <td>Potato Bacon Pizza</td>\n",
       "      <td>4.500000</td>\n",
       "      <td>2</td>\n",
       "      <td>red potatoes^strips bacon^Sauce:^heavy whippin...</td>\n",
       "      <td>{u'niacin': {u'hasCompleteData': True, u'name'...</td>\n",
       "    </tr>\n",
       "  </tbody>\n",
       "</table>\n",
       "</div>"
      ],
      "text/plain": [
       "   recipe_id                        recipe_name  aver_rate  review_nums  \\\n",
       "0     222388                     Homemade Bacon   5.000000            3   \n",
       "1     240488  Pork Loin, Apples, and Sauerkraut   4.764706           29   \n",
       "2     218939   Foolproof Rosemary Chicken Wings   4.571429           12   \n",
       "3      87211              Chicken Pesto Paninis   4.625000          163   \n",
       "4     245714                 Potato Bacon Pizza   4.500000            2   \n",
       "\n",
       "                                         ingredients  \\\n",
       "0  pork belly^smoked paprika^kosher salt^ground b...   \n",
       "1  sauerkraut drained^Granny Smith apples sliced^...   \n",
       "2  chicken wings^sprigs rosemary^head garlic^oliv...   \n",
       "3  focaccia bread quartered^prepared basil pesto^...   \n",
       "4  red potatoes^strips bacon^Sauce:^heavy whippin...   \n",
       "\n",
       "                                          nutritions  \n",
       "0  {u'niacin': {u'hasCompleteData': False, u'name...  \n",
       "1  {u'niacin': {u'hasCompleteData': False, u'name...  \n",
       "2  {u'niacin': {u'hasCompleteData': True, u'name'...  \n",
       "3  {u'niacin': {u'hasCompleteData': True, u'name'...  \n",
       "4  {u'niacin': {u'hasCompleteData': True, u'name'...  "
      ]
     },
     "execution_count": 2,
     "metadata": {},
     "output_type": "execute_result"
    }
   ],
   "source": [
    "raw_recipes = pd.read_csv('./data/raw-data_recipe.csv')\n",
    "raw_recipes = raw_recipes.drop(columns=[\"image_url\", \"cooking_directions\", \"reviews\"])\n",
    "raw_recipes.head()"
   ]
  },
  {
   "cell_type": "code",
   "execution_count": 3,
   "metadata": {},
   "outputs": [
    {
     "data": {
      "text/plain": [
       "0    5.00\n",
       "1    4.76\n",
       "2    4.57\n",
       "3    4.62\n",
       "4    4.50\n",
       "Name: aver_rate, dtype: object"
      ]
     },
     "execution_count": 3,
     "metadata": {},
     "output_type": "execute_result"
    }
   ],
   "source": [
    "raw_recipes.aver_rate = raw_recipes.aver_rate.apply(lambda num: f'{num:.2f}')\n",
    "raw_recipes.aver_rate.head()"
   ]
  },
  {
   "cell_type": "code",
   "execution_count": 4,
   "metadata": {},
   "outputs": [
    {
     "name": "stdout",
     "output_type": "stream",
     "text": [
      "<class 'pandas.core.frame.DataFrame'>\n",
      "RangeIndex: 49698 entries, 0 to 49697\n",
      "Data columns (total 6 columns):\n",
      " #   Column       Non-Null Count  Dtype \n",
      "---  ------       --------------  ----- \n",
      " 0   recipe_id    49698 non-null  int64 \n",
      " 1   recipe_name  49698 non-null  object\n",
      " 2   aver_rate    49698 non-null  object\n",
      " 3   review_nums  49698 non-null  int64 \n",
      " 4   ingredients  49698 non-null  object\n",
      " 5   nutritions   49698 non-null  object\n",
      "dtypes: int64(2), object(4)\n",
      "memory usage: 2.3+ MB\n"
     ]
    }
   ],
   "source": [
    "raw_recipes.info()"
   ]
  },
  {
   "cell_type": "code",
   "execution_count": 5,
   "metadata": {},
   "outputs": [
    {
     "data": {
      "text/plain": [
       "recipe_id        int64\n",
       "recipe_name     object\n",
       "aver_rate      float64\n",
       "review_nums      int64\n",
       "ingredients     object\n",
       "nutritions      object\n",
       "dtype: object"
      ]
     },
     "execution_count": 5,
     "metadata": {},
     "output_type": "execute_result"
    }
   ],
   "source": [
    "raw_recipes.aver_rate = raw_recipes.aver_rate.astype(float)\n",
    "raw_recipes.dtypes"
   ]
  },
  {
   "cell_type": "code",
   "execution_count": 6,
   "metadata": {},
   "outputs": [
    {
     "data": {
      "text/plain": [
       "(49698, 6)"
      ]
     },
     "execution_count": 6,
     "metadata": {},
     "output_type": "execute_result"
    }
   ],
   "source": [
    "raw_recipes.shape"
   ]
  },
  {
   "cell_type": "code",
   "execution_count": 11,
   "metadata": {},
   "outputs": [
    {
     "data": {
      "text/plain": [
       "'dry penne pasta^skinless boneless chicken breast halves^fresh broccoli florets^green onions^canola oil^lemon pepper to taste'"
      ]
     },
     "execution_count": 11,
     "metadata": {},
     "output_type": "execute_result"
    }
   ],
   "source": [
    "raw_recipes.ingredients[48]"
   ]
  },
  {
   "cell_type": "code",
   "execution_count": null,
   "metadata": {},
   "outputs": [],
   "source": []
  },
  {
   "cell_type": "code",
   "execution_count": 12,
   "metadata": {},
   "outputs": [],
   "source": [
    "test_ingredients = raw_recipes.ingredients[48].split(\"^\")"
   ]
  },
  {
   "cell_type": "code",
   "execution_count": 13,
   "metadata": {},
   "outputs": [
    {
     "data": {
      "text/plain": [
       "['dry penne pasta',\n",
       " 'skinless boneless chicken breast halves',\n",
       " 'fresh broccoli florets',\n",
       " 'green onions',\n",
       " 'canola oil',\n",
       " 'lemon pepper to taste']"
      ]
     },
     "execution_count": 13,
     "metadata": {},
     "output_type": "execute_result"
    }
   ],
   "source": [
    "test_ingredients"
   ]
  },
  {
   "cell_type": "code",
   "execution_count": 14,
   "metadata": {},
   "outputs": [],
   "source": [
    "import nltk\n",
    "vocabulary = nltk.FreqDist()"
   ]
  },
  {
   "cell_type": "code",
   "execution_count": 15,
   "metadata": {},
   "outputs": [
    {
     "name": "stdout",
     "output_type": "stream",
     "text": [
      "dry: 1\n",
      "penne: 1\n",
      "pasta: 1\n",
      "skinless: 1\n",
      "boneless: 1\n",
      "chicken: 1\n",
      "breast: 1\n",
      "halves: 1\n",
      "fresh: 1\n",
      "broccoli: 1\n",
      "florets: 1\n",
      "green: 1\n",
      "onions: 1\n",
      "canola: 1\n",
      "oil: 1\n",
      "lemon: 1\n",
      "pepper: 1\n",
      "to: 1\n",
      "taste: 1\n"
     ]
    }
   ],
   "source": [
    "for ingredients in test_ingredients:\n",
    "    ingredient = ingredients.split()\n",
    "    vocabulary.update(ingredient)\n",
    "\n",
    "for word, frequency in vocabulary.most_common():\n",
    "    print(f\"{word}: {frequency}\")"
   ]
  },
  {
   "cell_type": "code",
   "execution_count": null,
   "metadata": {},
   "outputs": [],
   "source": [
    "from sklearn.feature_extraction import CountVectorizer"
   ]
  }
 ],
 "metadata": {
  "kernelspec": {
   "display_name": "recipe-recommender",
   "language": "python",
   "name": "recipe-recommender"
  },
  "language_info": {
   "codemirror_mode": {
    "name": "ipython",
    "version": 3
   },
   "file_extension": ".py",
   "mimetype": "text/x-python",
   "name": "python",
   "nbconvert_exporter": "python",
   "pygments_lexer": "ipython3",
   "version": "3.10.6"
  },
  "orig_nbformat": 4,
  "vscode": {
   "interpreter": {
    "hash": "36d8c640247db72d39d1dc0bb861336356b93021c587e8eaad646cc285eb4b15"
   }
  }
 },
 "nbformat": 4,
 "nbformat_minor": 2
}
