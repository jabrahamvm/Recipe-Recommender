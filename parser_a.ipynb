{
 "cells": [
  {
   "cell_type": "markdown",
   "metadata": {},
   "source": [
    "### Recipe recommender based on similar ingredients"
   ]
  },
  {
   "cell_type": "markdown",
   "metadata": {},
   "source": [
    "## Data Analysis"
   ]
  },
  {
   "cell_type": "code",
   "execution_count": 1,
   "metadata": {},
   "outputs": [],
   "source": [
    "import pandas as pd\n",
    "import string\n",
    "import nltk\n",
    "import re"
   ]
  },
  {
   "cell_type": "code",
   "execution_count": 2,
   "metadata": {},
   "outputs": [
    {
     "data": {
      "text/html": [
       "<div>\n",
       "<style scoped>\n",
       "    .dataframe tbody tr th:only-of-type {\n",
       "        vertical-align: middle;\n",
       "    }\n",
       "\n",
       "    .dataframe tbody tr th {\n",
       "        vertical-align: top;\n",
       "    }\n",
       "\n",
       "    .dataframe thead th {\n",
       "        text-align: right;\n",
       "    }\n",
       "</style>\n",
       "<table border=\"1\" class=\"dataframe\">\n",
       "  <thead>\n",
       "    <tr style=\"text-align: right;\">\n",
       "      <th></th>\n",
       "      <th>recipe_id</th>\n",
       "      <th>recipe_name</th>\n",
       "      <th>ingredients</th>\n",
       "    </tr>\n",
       "  </thead>\n",
       "  <tbody>\n",
       "    <tr>\n",
       "      <th>0</th>\n",
       "      <td>240488</td>\n",
       "      <td>Pork Loin, Apples, and Sauerkraut</td>\n",
       "      <td>sauerkraut drained^Granny Smith apples sliced^...</td>\n",
       "    </tr>\n",
       "    <tr>\n",
       "      <th>1</th>\n",
       "      <td>218939</td>\n",
       "      <td>Foolproof Rosemary Chicken Wings</td>\n",
       "      <td>chicken wings^sprigs rosemary^head garlic^oliv...</td>\n",
       "    </tr>\n",
       "    <tr>\n",
       "      <th>2</th>\n",
       "      <td>87211</td>\n",
       "      <td>Chicken Pesto Paninis</td>\n",
       "      <td>focaccia bread quartered^prepared basil pesto^...</td>\n",
       "    </tr>\n",
       "    <tr>\n",
       "      <th>3</th>\n",
       "      <td>245714</td>\n",
       "      <td>Potato Bacon Pizza</td>\n",
       "      <td>red potatoes^strips bacon^Sauce:^heavy whippin...</td>\n",
       "    </tr>\n",
       "    <tr>\n",
       "      <th>4</th>\n",
       "      <td>218545</td>\n",
       "      <td>Latin-Inspired Spicy Cream Chicken Stew</td>\n",
       "      <td>skinless boneless chicken breast halves^diced ...</td>\n",
       "    </tr>\n",
       "  </tbody>\n",
       "</table>\n",
       "</div>"
      ],
      "text/plain": [
       "   recipe_id                              recipe_name  \\\n",
       "0     240488        Pork Loin, Apples, and Sauerkraut   \n",
       "1     218939         Foolproof Rosemary Chicken Wings   \n",
       "2      87211                    Chicken Pesto Paninis   \n",
       "3     245714                       Potato Bacon Pizza   \n",
       "4     218545  Latin-Inspired Spicy Cream Chicken Stew   \n",
       "\n",
       "                                         ingredients  \n",
       "0  sauerkraut drained^Granny Smith apples sliced^...  \n",
       "1  chicken wings^sprigs rosemary^head garlic^oliv...  \n",
       "2  focaccia bread quartered^prepared basil pesto^...  \n",
       "3  red potatoes^strips bacon^Sauce:^heavy whippin...  \n",
       "4  skinless boneless chicken breast halves^diced ...  "
      ]
     },
     "execution_count": 2,
     "metadata": {},
     "output_type": "execute_result"
    }
   ],
   "source": [
    "recipe_ingredients = pd.read_csv('./data/core-data_recipe.csv')\n",
    "recipe_ingredients = recipe_ingredients.drop(columns=[\"image_url\", \"cooking_directions\",\"nutritions\"])\n",
    "recipe_ingredients.head()"
   ]
  },
  {
   "cell_type": "code",
   "execution_count": 3,
   "metadata": {},
   "outputs": [],
   "source": [
    "def ingredients_parser(recipe):\n",
    "\n",
    "    def remove_punctuations(text):\n",
    "        for char in string.punctuation:\n",
    "            text = text.replace(char, '')\n",
    "        return text\n",
    "    \n",
    "    parsed_str = \" \".join(recipe.split(\"^\"))\n",
    "    parsed_str = parsed_str.lower()\n",
    "    # Remove text between ()\n",
    "    parsed_str = re.sub(\"\\(.*?\\)\",\"\",parsed_str)\n",
    "    parsed_str = remove_punctuations(parsed_str)\n",
    "    stopwords = nltk.corpus.stopwords.words(\"english\")\n",
    "\n",
    "    ingredients_sw = [\n",
    "        \"salt\", \"ground\", \"sugar\", \"chopped\", \"white\", \"oil\", \"fresh\", \"black\", \"taste\", \"water\", \"allpurpose\", \n",
    "        \"dried\", \"red\", \"green\", \"baking\", \"extract\", \"shredded\", \"sliced\", \"large\", \"vegetable\", \"brown\", \"diced\", \"grated\", \n",
    "        \"drained\", \"dry\", \"minced\", \"frozen\", \"mix\", \"soda\", \"fluid\", \"small\", \"cut\", \"skinless\", \"boneless\", \"seasoning\", \"cooked\", \n",
    "        \"hot\", \"cold\", \"packed\", \"soup\", \"ounce\", \"finely\", \"peeled\", \"condensed\", \"confectioners\", \"freshly\", \"heavy\", \"inch\", \"medium\", \n",
    "        \"sweet\", \"beaten\", \"prepared\", \"divided\", \"rinsed\", \"unsweetened\", \"cooking\", \"seeds\", \"dressing\", \"uncooked\", \"cubed\", \"ice\",\n",
    "        \"light\", \"pieces\", \"shortening\", \"thinly\", \"rasins\", \"head\", \"wheat\", \"halved\", \"unsalted\", \"instant\", \"ounces\", \"topping\", \"crumbled\", \n",
    "        \"spray\", \"melted\", \"flavored\", \"whipped\", \"stock\", \"lean\", \"whipping\", \"frying\", \"pitted\", \"seasoned\", \"sweetened\", \"warm\", \"sea\", \"extravirgin\", \"toasted\",\n",
    "        \"slices\", \"trimmed\", \"rolled\", \"flaked\", \"leaf\", \"mashed\", \"plain\", \"evaporated\", \"food\", \"roast\", \"bottle\", \"halfandhalf\", \"chunks\", \"smoked\", \"boiling\",\n",
    "        \"extra\", \"allspice\", \"seeded\", \"liquid\", \"thick\", \"garnish\", \"blend\", \"quartered\", \"refrigerated\", \"distilled\", \"roasted\", \"spice\", \"monterey\", \"softened\",\n",
    "        \"italianstyle\", \"dough\", \"squares\", \"weed\", \"round\", \"removed\", \"virgin\", \"lengthwise\", \"whole\", \"lowfat\", \"strips\", \"room\", \"bag\", \"thin\",\n",
    "        \"room\", \"temperature\", \"half\", \"concentrate\", \"torn\", \"hearts\", \"blue\", \"coloring\", \"thighs\", \"slivered\", \"undrained\", \"recipe\", \"fatfree\", \n",
    "        \"unbaked\", \"fat\", \"nonfat\", \"long\", \"greek\", \"cracked\", \"creme\", \"separated\", \"american\", \"broken\", \"smoked\", \"shell\", \"envelope\", \"dates\", \"powered\",\n",
    "        \"stuffing\", \"preserves\", \"rounds\", \"de\", \"squeezed\", \"quickcooking\", \"double\", \"crispy\", \"deep\", \"fine\", \"refried\", \"new\", \"and\", \"to\", \"into\", \"for\",\n",
    "        \"of\", \"with\", \"in\", \"baby\", \"a\", \"as\", \"quick\", \"raw\", \"at\", \"soft\", \"old\", \"very\", \"plus\", \"free\", \"ears\", \"such\", \"hair\", \"single\",\n",
    "        \"button\", \"top\", \"cod\", \"low\", \n",
    "    ]\n",
    "\n",
    "    parsed_str = \" \".join([word for word in parsed_str.split() if word not in stopwords])\n",
    "    parsed_str = \" \".join([word for word in parsed_str.split() if word not in ingredients_sw])\n",
    "    return parsed_str"
   ]
  },
  {
   "cell_type": "code",
   "execution_count": 4,
   "metadata": {},
   "outputs": [],
   "source": [
    "recipe_ingredients[\"ingredients_parsed\"] = recipe_ingredients[\"ingredients\"].apply(ingredients_parser)"
   ]
  },
  {
   "cell_type": "code",
   "execution_count": 5,
   "metadata": {},
   "outputs": [
    {
     "data": {
      "text/html": [
       "<div>\n",
       "<style scoped>\n",
       "    .dataframe tbody tr th:only-of-type {\n",
       "        vertical-align: middle;\n",
       "    }\n",
       "\n",
       "    .dataframe tbody tr th {\n",
       "        vertical-align: top;\n",
       "    }\n",
       "\n",
       "    .dataframe thead th {\n",
       "        text-align: right;\n",
       "    }\n",
       "</style>\n",
       "<table border=\"1\" class=\"dataframe\">\n",
       "  <thead>\n",
       "    <tr style=\"text-align: right;\">\n",
       "      <th></th>\n",
       "      <th>recipe_id</th>\n",
       "      <th>recipe_name</th>\n",
       "      <th>ingredients</th>\n",
       "      <th>ingredients_parsed</th>\n",
       "    </tr>\n",
       "  </thead>\n",
       "  <tbody>\n",
       "    <tr>\n",
       "      <th>0</th>\n",
       "      <td>240488</td>\n",
       "      <td>Pork Loin, Apples, and Sauerkraut</td>\n",
       "      <td>sauerkraut drained^Granny Smith apples sliced^...</td>\n",
       "      <td>sauerkraut granny smith apples onion caraway a...</td>\n",
       "    </tr>\n",
       "    <tr>\n",
       "      <th>1</th>\n",
       "      <td>218939</td>\n",
       "      <td>Foolproof Rosemary Chicken Wings</td>\n",
       "      <td>chicken wings^sprigs rosemary^head garlic^oliv...</td>\n",
       "      <td>chicken wings sprigs rosemary garlic olive lem...</td>\n",
       "    </tr>\n",
       "    <tr>\n",
       "      <th>2</th>\n",
       "      <td>87211</td>\n",
       "      <td>Chicken Pesto Paninis</td>\n",
       "      <td>focaccia bread quartered^prepared basil pesto^...</td>\n",
       "      <td>focaccia bread basil pesto chicken bell pepper...</td>\n",
       "    </tr>\n",
       "    <tr>\n",
       "      <th>3</th>\n",
       "      <td>245714</td>\n",
       "      <td>Potato Bacon Pizza</td>\n",
       "      <td>red potatoes^strips bacon^Sauce:^heavy whippin...</td>\n",
       "      <td>potatoes bacon sauce cream butter garlic parme...</td>\n",
       "    </tr>\n",
       "    <tr>\n",
       "      <th>4</th>\n",
       "      <td>218545</td>\n",
       "      <td>Latin-Inspired Spicy Cream Chicken Stew</td>\n",
       "      <td>skinless boneless chicken breast halves^diced ...</td>\n",
       "      <td>chicken breast halves tomatoes salsa beans pin...</td>\n",
       "    </tr>\n",
       "  </tbody>\n",
       "</table>\n",
       "</div>"
      ],
      "text/plain": [
       "   recipe_id                              recipe_name  \\\n",
       "0     240488        Pork Loin, Apples, and Sauerkraut   \n",
       "1     218939         Foolproof Rosemary Chicken Wings   \n",
       "2      87211                    Chicken Pesto Paninis   \n",
       "3     245714                       Potato Bacon Pizza   \n",
       "4     218545  Latin-Inspired Spicy Cream Chicken Stew   \n",
       "\n",
       "                                         ingredients  \\\n",
       "0  sauerkraut drained^Granny Smith apples sliced^...   \n",
       "1  chicken wings^sprigs rosemary^head garlic^oliv...   \n",
       "2  focaccia bread quartered^prepared basil pesto^...   \n",
       "3  red potatoes^strips bacon^Sauce:^heavy whippin...   \n",
       "4  skinless boneless chicken breast halves^diced ...   \n",
       "\n",
       "                                  ingredients_parsed  \n",
       "0  sauerkraut granny smith apples onion caraway a...  \n",
       "1  chicken wings sprigs rosemary garlic olive lem...  \n",
       "2  focaccia bread basil pesto chicken bell pepper...  \n",
       "3  potatoes bacon sauce cream butter garlic parme...  \n",
       "4  chicken breast halves tomatoes salsa beans pin...  "
      ]
     },
     "execution_count": 5,
     "metadata": {},
     "output_type": "execute_result"
    }
   ],
   "source": [
    "recipe_ingredients.head()"
   ]
  },
  {
   "cell_type": "code",
   "execution_count": 6,
   "metadata": {},
   "outputs": [],
   "source": [
    "recipe_ingredients.to_csv(\"./data/parsed_ds.csv\", index=False)"
   ]
  },
  {
   "cell_type": "code",
   "execution_count": null,
   "metadata": {},
   "outputs": [],
   "source": [
    "vocabulary1 = nltk.FreqDist()\n",
    "\n",
    "for ingredients in recipe_ingredients[\"parsed_ingredients\"]:\n",
    "    ingredients = ingredients.split()\n",
    "    vocabulary1.update(ingredients)"
   ]
  },
  {
   "cell_type": "markdown",
   "metadata": {},
   "source": [
    "From here we can choose which words we consider irrelevant for ingredients such as:\n",
    " * salt\n",
    " * fresh\n",
    " * dried\n",
    " * green\n",
    " * black\n",
    " * taste\n",
    " * ..."
   ]
  },
  {
   "cell_type": "code",
   "execution_count": null,
   "metadata": {},
   "outputs": [],
   "source": [
    "import matplotlib.pyplot as plt\n",
    "\n",
    "fig, ax = plt.subplots(figsize=(40,32))\n",
    "plt.barh([x[0] for x in vocabulary1.most_common(40)],[x[1] for x in vocabulary1.most_common(40)], label='Frequency')\n",
    "ax.spines['right'].set_visible(False)\n",
    "ax.spines['top'].set_visible(False)\n",
    "ax.set_xlabel('Number of posts')\n",
    "plt.title('Most common words',fontsize=22,pad=24)\n",
    "plt.show()"
   ]
  }
 ],
 "metadata": {
  "kernelspec": {
   "display_name": "Python 3.10.6 ('recipe-recommender')",
   "language": "python",
   "name": "python3"
  },
  "language_info": {
   "codemirror_mode": {
    "name": "ipython",
    "version": 3
   },
   "file_extension": ".py",
   "mimetype": "text/x-python",
   "name": "python",
   "nbconvert_exporter": "python",
   "pygments_lexer": "ipython3",
   "version": "3.10.6"
  },
  "orig_nbformat": 4,
  "vscode": {
   "interpreter": {
    "hash": "36d8c640247db72d39d1dc0bb861336356b93021c587e8eaad646cc285eb4b15"
   }
  }
 },
 "nbformat": 4,
 "nbformat_minor": 2
}
